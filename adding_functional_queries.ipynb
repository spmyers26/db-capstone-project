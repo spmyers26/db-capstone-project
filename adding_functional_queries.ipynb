{
 "cells": [
  {
   "cell_type": "code",
   "execution_count": 1,
   "id": "e1fba5eb",
   "metadata": {},
   "outputs": [],
   "source": [
    "import mysql.connector as connector"
   ]
  },
  {
   "cell_type": "code",
   "execution_count": 2,
   "id": "5460581b",
   "metadata": {},
   "outputs": [],
   "source": [
    "connection = connector.connect(user = \"ll_admin\", password = \"littlelemon101\", db = \"little_lemon_db\") "
   ]
  },
  {
   "cell_type": "code",
   "execution_count": 3,
   "id": "a21bf256",
   "metadata": {},
   "outputs": [
    {
     "name": "stdout",
     "output_type": "stream",
     "text": [
      "<mysql.connector.connection.MySQLConnection object at 0x1083924f0>\n"
     ]
    }
   ],
   "source": [
    "print(connection)"
   ]
  },
  {
   "cell_type": "code",
   "execution_count": 4,
   "id": "3239736a",
   "metadata": {},
   "outputs": [],
   "source": [
    "mycursor = connection.cursor()"
   ]
  },
  {
   "cell_type": "code",
   "execution_count": 5,
   "id": "0152ac82",
   "metadata": {},
   "outputs": [],
   "source": [
    "show_tables_query = \"SHOW tables\""
   ]
  },
  {
   "cell_type": "code",
   "execution_count": 6,
   "id": "9a383c82",
   "metadata": {},
   "outputs": [],
   "source": [
    "mycursor.execute(show_tables_query)"
   ]
  },
  {
   "cell_type": "code",
   "execution_count": 7,
   "id": "6c05caa3",
   "metadata": {},
   "outputs": [],
   "source": [
    "results = mycursor.fetchall()"
   ]
  },
  {
   "cell_type": "code",
   "execution_count": 8,
   "id": "79fadf20",
   "metadata": {},
   "outputs": [
    {
     "name": "stdout",
     "output_type": "stream",
     "text": [
      "('bookings',)\n",
      "('customer_details',)\n",
      "('menu',)\n",
      "('menu_items',)\n",
      "('order_delivery_status',)\n",
      "('orders',)\n",
      "('orders_view',)\n",
      "('staff_information',)\n"
     ]
    }
   ],
   "source": [
    "for result in results:\n",
    "    print(result)"
   ]
  },
  {
   "cell_type": "code",
   "execution_count": 9,
   "id": "17cee28c",
   "metadata": {},
   "outputs": [],
   "source": [
    "mycursor.execute(\"SHOW COLUMNS IN customer_details\")"
   ]
  },
  {
   "cell_type": "code",
   "execution_count": 10,
   "id": "288d1aa1",
   "metadata": {},
   "outputs": [],
   "source": [
    "results = mycursor.fetchall()"
   ]
  },
  {
   "cell_type": "code",
   "execution_count": 11,
   "id": "01e208b0",
   "metadata": {},
   "outputs": [
    {
     "name": "stdout",
     "output_type": "stream",
     "text": [
      "('customerID', 'int', 'NO', 'PRI', None, '')\n",
      "('customerFullName', 'varchar(255)', 'NO', '', None, '')\n",
      "('phone', 'int', 'NO', '', None, '')\n",
      "('email', 'varchar(255)', 'NO', '', None, '')\n"
     ]
    }
   ],
   "source": [
    "for result in results:\n",
    "    print(result)"
   ]
  },
  {
   "cell_type": "code",
   "execution_count": 16,
   "id": "fbbaeef5",
   "metadata": {},
   "outputs": [],
   "source": [
    "big_spender_details_query = \"SELECT c.customerFullName, c.phone, c.email, o.totalCost FROM customer_details c LEFT JOIN orders o ON c.customerID = o.customerID WHERE o.totalCost > 60\""
   ]
  },
  {
   "cell_type": "code",
   "execution_count": 25,
   "id": "3933cfe5",
   "metadata": {},
   "outputs": [],
   "source": [
    "mycursor.execute(big_spender_details_query)"
   ]
  },
  {
   "cell_type": "code",
   "execution_count": 26,
   "id": "d817dbb5",
   "metadata": {},
   "outputs": [],
   "source": [
    "results = mycursor.fetchall()\n",
    "columns = mycursor.column_names"
   ]
  },
  {
   "cell_type": "code",
   "execution_count": 27,
   "id": "5eee4d6f",
   "metadata": {},
   "outputs": [
    {
     "name": "stdout",
     "output_type": "stream",
     "text": [
      "('customerFullName', 'phone', 'email', 'totalCost')\n",
      "('John Doe', 1234567890, 'john.doe@example.com', Decimal('130.00'))\n",
      "('Jane Smith', 1876543210, 'jane.smith@example.com', Decimal('105.00'))\n",
      "('Mike Johnson', 1567890123, 'mike.johnson@example.com', Decimal('180.00'))\n",
      "('Emily Brown', 1890123456, 'emily.brown@example.com', Decimal('130.00'))\n"
     ]
    }
   ],
   "source": [
    "print(columns)\n",
    "for result in results:\n",
    "    print(result)"
   ]
  },
  {
   "cell_type": "code",
   "execution_count": null,
   "id": "682561e5",
   "metadata": {},
   "outputs": [],
   "source": []
  }
 ],
 "metadata": {
  "kernelspec": {
   "display_name": "Python 3 (ipykernel)",
   "language": "python",
   "name": "python3"
  },
  "language_info": {
   "codemirror_mode": {
    "name": "ipython",
    "version": 3
   },
   "file_extension": ".py",
   "mimetype": "text/x-python",
   "name": "python",
   "nbconvert_exporter": "python",
   "pygments_lexer": "ipython3",
   "version": "3.8.9"
  }
 },
 "nbformat": 4,
 "nbformat_minor": 5
}
